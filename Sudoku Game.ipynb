{
 "cells": [
  {
   "cell_type": "code",
   "execution_count": 9,
   "id": "97753074",
   "metadata": {},
   "outputs": [],
   "source": [
    "import pprint\n",
    "from random import shuffle\n",
    "import copy\n",
    "import numpy as np\n",
    "from dokusan import generators"
   ]
  },
  {
   "cell_type": "code",
   "execution_count": 10,
   "id": "19d899cc",
   "metadata": {},
   "outputs": [
    {
     "data": {
      "text/plain": [
       "[[0, 3, 0, 0, 5, 0, 0, 9, 0],\n",
       " [0, 0, 0, 1, 0, 7, 0, 4, 0],\n",
       " [0, 0, 0, 0, 3, 4, 0, 0, 5],\n",
       " [2, 0, 0, 4, 8, 0, 0, 0, 0],\n",
       " [0, 0, 0, 0, 0, 6, 1, 0, 0],\n",
       " [0, 0, 7, 0, 0, 2, 0, 0, 0],\n",
       " [9, 2, 0, 0, 4, 3, 6, 0, 1],\n",
       " [0, 0, 0, 8, 0, 0, 2, 0, 0],\n",
       " [7, 0, 6, 0, 2, 0, 0, 0, 8]]"
      ]
     },
     "execution_count": 10,
     "metadata": {},
     "output_type": "execute_result"
    }
   ],
   "source": [
    "# Sudoku Generator\n",
    "arr = np.array(list(map(int,str(generators.random_sudoku(avg_rank=150)))))\n",
    "arr1 = arr.reshape(9,9)\n",
    "x = np.matrix(arr1)\n",
    "Board = x.tolist()\n",
    "Board"
   ]
  },
  {
   "cell_type": "code",
   "execution_count": 11,
   "id": "0bd2aafd",
   "metadata": {
    "scrolled": true
   },
   "outputs": [],
   "source": [
    "# Sudoku Solving Iterator\n",
    "def solve(bo):\n",
    "    find = find_empty(bo)\n",
    "    if find:\n",
    "        row,col=find\n",
    "    else:\n",
    "        return True\n",
    "    \n",
    "    for i in range(1,10):\n",
    "        if valid(bo,(row,col),i):\n",
    "            bo[row][col]=i\n",
    "            \n",
    "            if solve(bo):\n",
    "                return True\n",
    "            bo[row][col]=0\n",
    "    return False\n",
    "\n",
    "\n",
    "def valid(bo,pos,num):\n",
    "    for i in range(0,len(bo)):\n",
    "        if bo[pos[0]][i]==num and pos[1]!=i:\n",
    "            return False\n",
    "    \n",
    "    for i in range(0,len(bo)):\n",
    "        if bo[i][pos[1]]==num and pos[1]!=i:\n",
    "            return False\n",
    "    box_x = pos[1]//3\n",
    "    box_y = pos[0]//3\n",
    "    \n",
    "    for i in range(box_y*3,box_y*3+3):\n",
    "        for j in range(box_x*3,box_x*3+3):\n",
    "            if bo[i][j] == num and (i,j)!= pos:\n",
    "                return False\n",
    "\n",
    "            return True\n",
    "        \n",
    "def find_empty(bo):\n",
    "    for i in range(len(bo)):\n",
    "        for j in range(len(bo[0])):\n",
    "            if bo[i][j]==0:\n",
    "                return (i,j)\n",
    "    return None\n",
    "\n",
    "\n",
    "def print_board(bo):\n",
    "    for i in range(len(bo)):\n",
    "        if I%3 == 0 and i != 0:\n",
    "            print('--------')\n",
    "        for j in  range(len(bo[0])):\n",
    "            if j%3==0:\n",
    "                print('|',end='')\n",
    "            if j==8:\n",
    "                print(bo[i][j],end='\\n')\n",
    "            else:\n",
    "                print(str(bo[i][j])+'',end='')"
   ]
  },
  {
   "cell_type": "code",
   "execution_count": 12,
   "id": "c5be39c2",
   "metadata": {},
   "outputs": [
    {
     "name": "stdout",
     "output_type": "stream",
     "text": [
      "[[1, 3, 2, 4, 5, 8, 6, 9, 7],\n",
      " [3, 5, 8, 1, 6, 7, 9, 4, 2],\n",
      " [6, 7, 9, 2, 3, 4, 8, 1, 5],\n",
      " [2, 1, 3, 4, 8, 5, 7, 6, 9],\n",
      " [4, 5, 9, 3, 7, 6, 1, 2, 8],\n",
      " [1, 8, 7, 5, 9, 2, 4, 3, 6],\n",
      " [9, 2, 5, 7, 4, 3, 6, 8, 1],\n",
      " [5, 6, 4, 8, 1, 9, 2, 7, 3],\n",
      " [7, 4, 6, 9, 2, 1, 3, 5, 8]]\n"
     ]
    }
   ],
   "source": [
    "#Answer\n",
    "pp = pprint.PrettyPrinter(width=41,compact=True)\n",
    "solve(Board)\n",
    "pp.pprint(Board)"
   ]
  }
 ],
 "metadata": {
  "kernelspec": {
   "display_name": "Python 3 (ipykernel)",
   "language": "python",
   "name": "python3"
  },
  "language_info": {
   "codemirror_mode": {
    "name": "ipython",
    "version": 3
   },
   "file_extension": ".py",
   "mimetype": "text/x-python",
   "name": "python",
   "nbconvert_exporter": "python",
   "pygments_lexer": "ipython3",
   "version": "3.10.4"
  }
 },
 "nbformat": 4,
 "nbformat_minor": 5
}
